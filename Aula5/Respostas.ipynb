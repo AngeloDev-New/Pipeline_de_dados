{
 "cells": [
  {
   "cell_type": "markdown",
   "metadata": {},
   "source": [
    "# Atividade 01\n",
    "## Extraia os dados do arquivo 'dados_vendas.csv'. Realize uma análise exploratoria inicial mostrando as:\n",
    "* dimensoes(linhas e colunas);\n",
    "* tipos de dados; \n",
    "* valores ausentes;\n",
    "* resumo estatistico;"
   ]
  },
  {
   "cell_type": "code",
   "execution_count": 10,
   "metadata": {},
   "outputs": [
    {
     "name": "stdout",
     "output_type": "stream",
     "text": [
      "dados_vendas.shape\n",
      "(2015, 1)\n",
      "dados_vendas.dtypes\n",
      "id_venda;id_pedido;id_produto;id_cliente;id_loja;data_pedido;quantidade;preco_unitario;valor_desconto;custo_frete;status_pedido;metodo_pagamento;nota_fiscal;nome_produto;categoria_produto;subcategoria_produto;preco_custo;preco_venda;peso_kg;fornecedor_id;nome_fornecedor;data_cadastro_produto;em_estoque;nome_cliente;email_cliente;telefone_cliente;data_cadastro_cliente;segmento_cliente;cidade_cliente;estado_cliente;nome_loja;endereco_loja;cidade_loja;estado_loja;regiao_loja;gerente_loja;data_inauguracao;tipo_loja    object\n",
      "dtype: object\n",
      "dados_vendas.isnull()\n",
      "      id_venda;id_pedido;id_produto;id_cliente;id_loja;data_pedido;quantidade;preco_unitario;valor_desconto;custo_frete;status_pedido;metodo_pagamento;nota_fiscal;nome_produto;categoria_produto;subcategoria_produto;preco_custo;preco_venda;peso_kg;fornecedor_id;nome_fornecedor;data_cadastro_produto;em_estoque;nome_cliente;email_cliente;telefone_cliente;data_cadastro_cliente;segmento_cliente;cidade_cliente;estado_cliente;nome_loja;endereco_loja;cidade_loja;estado_loja;regiao_loja;gerente_loja;data_inauguracao;tipo_loja\n",
      "0                                                 False                                                                                                                                                                                                                                                                                                                                                                                                                                                                                   \n",
      "1                                                 False                                                                                                                                                                                                                                                                                                                                                                                                                                                                                   \n",
      "2                                                 False                                                                                                                                                                                                                                                                                                                                                                                                                                                                                   \n",
      "3                                                 False                                                                                                                                                                                                                                                                                                                                                                                                                                                                                   \n",
      "4                                                 False                                                                                                                                                                                                                                                                                                                                                                                                                                                                                   \n",
      "...                                                 ...                                                                                                                                                                                                                                                                                                                                                                                                                                                                                   \n",
      "2010                                              False                                                                                                                                                                                                                                                                                                                                                                                                                                                                                   \n",
      "2011                                              False                                                                                                                                                                                                                                                                                                                                                                                                                                                                                   \n",
      "2012                                              False                                                                                                                                                                                                                                                                                                                                                                                                                                                                                   \n",
      "2013                                              False                                                                                                                                                                                                                                                                                                                                                                                                                                                                                   \n",
      "2014                                              False                                                                                                                                                                                                                                                                                                                                                                                                                                                                                   \n",
      "\n",
      "[2015 rows x 1 columns]\n",
      "       id_venda;id_pedido;id_produto;id_cliente;id_loja;data_pedido;quantidade;preco_unitario;valor_desconto;custo_frete;status_pedido;metodo_pagamento;nota_fiscal;nome_produto;categoria_produto;subcategoria_produto;preco_custo;preco_venda;peso_kg;fornecedor_id;nome_fornecedor;data_cadastro_produto;em_estoque;nome_cliente;email_cliente;telefone_cliente;data_cadastro_cliente;segmento_cliente;cidade_cliente;estado_cliente;nome_loja;endereco_loja;cidade_loja;estado_loja;regiao_loja;gerente_loja;data_inauguracao;tipo_loja\n",
      "count                                                2015                                                                                                                                                                                                                                                                                                                                                                                                                                                                                  \n",
      "unique                                               2015                                                                                                                                                                                                                                                                                                                                                                                                                                                                                  \n",
      "top     1;1;52;19;8;10/12/2023;6.0;540.89;973.6;32.79;...                                                                                                                                                                                                                                                                                                                                                                                                                                                                                  \n",
      "freq                                                    1                                                                                                                                                                                                                                                                                                                                                                                                                                                                                  \n"
     ]
    }
   ],
   "source": [
    "\n",
    "import pandas as pd\n",
    "dados_vendas = pd.read_csv(r'dados_vendas.csv', encoding='windows-1252')\n",
    "# dimencoes\n",
    "print('dados_vendas.shape')\n",
    "print(dados_vendas.shape)\n",
    "# tipós de dados\n",
    "print('dados_vendas.dtypes')\n",
    "print(dados_vendas.dtypes)\n",
    "# valores ausentes\n",
    "print('dados_vendas.isnull()')\n",
    "print(dados_vendas.isnull())\n",
    "# resumo estatistico\n",
    "print(dados_vendas.describe())"
   ]
  },
  {
   "cell_type": "markdown",
   "metadata": {},
   "source": [
    "# Atividade 02\n",
    "## Explore a estrutura dos dados identificando as entidades presentes, suas colunas correspondentes e a cardinalidade das relacoes.\n",
    "* Identifique as entidades presentes no conjunto de dados;\n",
    "* Para cada entidade, identifique as colunas correspondentes;\n",
    "* Verifique a cardinalidade das relacoes analisando valores unicos nas colunas ID"
   ]
  },
  {
   "cell_type": "code",
   "execution_count": null,
   "metadata": {},
   "outputs": [
    {
     "name": "stdout",
     "output_type": "stream",
     "text": [
      "['id_venda;id_pedido;id_produto;id_cliente;id_loja;data_pedido;quantidade;preco_unitario;valor_desconto;custo_frete;status_pedido;metodo_pagamento;nota_fiscal;nome_produto;categoria_produto;subcategoria_produto;preco_custo;preco_venda;peso_kg;fornecedor_id;nome_fornecedor;data_cadastro_produto;em_estoque;nome_cliente;email_cliente;telefone_cliente;data_cadastro_cliente;segmento_cliente;cidade_cliente;estado_cliente;nome_loja;endereco_loja;cidade_loja;estado_loja;regiao_loja;gerente_loja;data_inauguracao;tipo_loja']\n"
     ]
    }
   ],
   "source": [
    "# Entidades presentes o conjunto da dados \n",
    "keys = [colun for colun in dados_vendas if 'id' in colun]\n",
    "print(keys)\n"
   ]
  },
  {
   "cell_type": "markdown",
   "metadata": {},
   "source": [
    "# Atividade 03\n",
    "## Identifique e corrija os problemas nos dados: valores nulos, quantidades negativas, datas em formato errado, categorias inconsistentes e possivel duplicatas.\n",
    "* Trate os valores nulos nas colunas 'preco_unitario', 'valor_desconto' e 'nome_fornecedos'"
   ]
  }
 ],
 "metadata": {
  "kernelspec": {
   "display_name": "venv",
   "language": "python",
   "name": "python3"
  },
  "language_info": {
   "codemirror_mode": {
    "name": "ipython",
    "version": 3
   },
   "file_extension": ".py",
   "mimetype": "text/x-python",
   "name": "python",
   "nbconvert_exporter": "python",
   "pygments_lexer": "ipython3",
   "version": "3.8.10"
  }
 },
 "nbformat": 4,
 "nbformat_minor": 2
}
